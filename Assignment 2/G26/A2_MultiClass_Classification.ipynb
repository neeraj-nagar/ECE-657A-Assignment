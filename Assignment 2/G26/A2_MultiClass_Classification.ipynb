{
  "nbformat": 4,
  "nbformat_minor": 0,
  "metadata": {
    "colab": {
      "provenance": []
    },
    "kernelspec": {
      "name": "python3",
      "display_name": "Python 3"
    },
    "language_info": {
      "name": "python"
    }
  },
  "cells": [
    {
      "cell_type": "markdown",
      "source": [
        "# **Multi-Class Classification**"
      ],
      "metadata": {
        "id": "udcF8p9iY1yh"
      }
    },
    {
      "cell_type": "code",
      "execution_count": 576,
      "metadata": {
        "id": "4NudQ9ZdsZXH"
      },
      "outputs": [],
      "source": [
        "import pandas as pd\n",
        "import numpy as np\n",
        "from sklearn.model_selection import train_test_split\n",
        "from sklearn.svm import SVC\n",
        "from sklearn.multiclass import OneVsRestClassifier, OneVsOneClassifier\n",
        "from sklearn.metrics import accuracy_score, precision_score, f1_score, confusion_matrix, recall_score\n",
        "from sklearn.preprocessing import LabelEncoder\n",
        "from sklearn.tree import DecisionTreeClassifier\n",
        "from sklearn.preprocessing import StandardScaler\n"
      ]
    },
    {
      "cell_type": "code",
      "source": [
        "data = pd.read_csv('DataB1.csv')"
      ],
      "metadata": {
        "id": "7Z_xJT5Psdr9"
      },
      "execution_count": 577,
      "outputs": []
    },
    {
      "cell_type": "code",
      "source": [
        "data.head()"
      ],
      "metadata": {
        "colab": {
          "base_uri": "https://localhost:8080/",
          "height": 206
        },
        "id": "HQx6XiQ0sdps",
        "outputId": "a02a94b3-f80d-4c5f-b0fc-2fd8eada9714"
      },
      "execution_count": 578,
      "outputs": [
        {
          "output_type": "execute_result",
          "data": {
            "text/plain": [
              "   sepallength  sepalwidth  petallength  petalwidth        class\n",
              "0          5.1         3.5          1.4         0.2  Iris-setosa\n",
              "1          4.9         3.0          1.4         0.2  Iris-setosa\n",
              "2          4.7         3.2          1.3         0.2  Iris-setosa\n",
              "3          4.6         3.1          1.5         0.2  Iris-setosa\n",
              "4          5.0         3.6          1.4         0.2  Iris-setosa"
            ],
            "text/html": [
              "\n",
              "  <div id=\"df-fe2110d8-1db0-4d7a-861d-c548037e5bad\" class=\"colab-df-container\">\n",
              "    <div>\n",
              "<style scoped>\n",
              "    .dataframe tbody tr th:only-of-type {\n",
              "        vertical-align: middle;\n",
              "    }\n",
              "\n",
              "    .dataframe tbody tr th {\n",
              "        vertical-align: top;\n",
              "    }\n",
              "\n",
              "    .dataframe thead th {\n",
              "        text-align: right;\n",
              "    }\n",
              "</style>\n",
              "<table border=\"1\" class=\"dataframe\">\n",
              "  <thead>\n",
              "    <tr style=\"text-align: right;\">\n",
              "      <th></th>\n",
              "      <th>sepallength</th>\n",
              "      <th>sepalwidth</th>\n",
              "      <th>petallength</th>\n",
              "      <th>petalwidth</th>\n",
              "      <th>class</th>\n",
              "    </tr>\n",
              "  </thead>\n",
              "  <tbody>\n",
              "    <tr>\n",
              "      <th>0</th>\n",
              "      <td>5.1</td>\n",
              "      <td>3.5</td>\n",
              "      <td>1.4</td>\n",
              "      <td>0.2</td>\n",
              "      <td>Iris-setosa</td>\n",
              "    </tr>\n",
              "    <tr>\n",
              "      <th>1</th>\n",
              "      <td>4.9</td>\n",
              "      <td>3.0</td>\n",
              "      <td>1.4</td>\n",
              "      <td>0.2</td>\n",
              "      <td>Iris-setosa</td>\n",
              "    </tr>\n",
              "    <tr>\n",
              "      <th>2</th>\n",
              "      <td>4.7</td>\n",
              "      <td>3.2</td>\n",
              "      <td>1.3</td>\n",
              "      <td>0.2</td>\n",
              "      <td>Iris-setosa</td>\n",
              "    </tr>\n",
              "    <tr>\n",
              "      <th>3</th>\n",
              "      <td>4.6</td>\n",
              "      <td>3.1</td>\n",
              "      <td>1.5</td>\n",
              "      <td>0.2</td>\n",
              "      <td>Iris-setosa</td>\n",
              "    </tr>\n",
              "    <tr>\n",
              "      <th>4</th>\n",
              "      <td>5.0</td>\n",
              "      <td>3.6</td>\n",
              "      <td>1.4</td>\n",
              "      <td>0.2</td>\n",
              "      <td>Iris-setosa</td>\n",
              "    </tr>\n",
              "  </tbody>\n",
              "</table>\n",
              "</div>\n",
              "    <div class=\"colab-df-buttons\">\n",
              "\n",
              "  <div class=\"colab-df-container\">\n",
              "    <button class=\"colab-df-convert\" onclick=\"convertToInteractive('df-fe2110d8-1db0-4d7a-861d-c548037e5bad')\"\n",
              "            title=\"Convert this dataframe to an interactive table.\"\n",
              "            style=\"display:none;\">\n",
              "\n",
              "  <svg xmlns=\"http://www.w3.org/2000/svg\" height=\"24px\" viewBox=\"0 -960 960 960\">\n",
              "    <path d=\"M120-120v-720h720v720H120Zm60-500h600v-160H180v160Zm220 220h160v-160H400v160Zm0 220h160v-160H400v160ZM180-400h160v-160H180v160Zm440 0h160v-160H620v160ZM180-180h160v-160H180v160Zm440 0h160v-160H620v160Z\"/>\n",
              "  </svg>\n",
              "    </button>\n",
              "\n",
              "  <style>\n",
              "    .colab-df-container {\n",
              "      display:flex;\n",
              "      gap: 12px;\n",
              "    }\n",
              "\n",
              "    .colab-df-convert {\n",
              "      background-color: #E8F0FE;\n",
              "      border: none;\n",
              "      border-radius: 50%;\n",
              "      cursor: pointer;\n",
              "      display: none;\n",
              "      fill: #1967D2;\n",
              "      height: 32px;\n",
              "      padding: 0 0 0 0;\n",
              "      width: 32px;\n",
              "    }\n",
              "\n",
              "    .colab-df-convert:hover {\n",
              "      background-color: #E2EBFA;\n",
              "      box-shadow: 0px 1px 2px rgba(60, 64, 67, 0.3), 0px 1px 3px 1px rgba(60, 64, 67, 0.15);\n",
              "      fill: #174EA6;\n",
              "    }\n",
              "\n",
              "    .colab-df-buttons div {\n",
              "      margin-bottom: 4px;\n",
              "    }\n",
              "\n",
              "    [theme=dark] .colab-df-convert {\n",
              "      background-color: #3B4455;\n",
              "      fill: #D2E3FC;\n",
              "    }\n",
              "\n",
              "    [theme=dark] .colab-df-convert:hover {\n",
              "      background-color: #434B5C;\n",
              "      box-shadow: 0px 1px 3px 1px rgba(0, 0, 0, 0.15);\n",
              "      filter: drop-shadow(0px 1px 2px rgba(0, 0, 0, 0.3));\n",
              "      fill: #FFFFFF;\n",
              "    }\n",
              "  </style>\n",
              "\n",
              "    <script>\n",
              "      const buttonEl =\n",
              "        document.querySelector('#df-fe2110d8-1db0-4d7a-861d-c548037e5bad button.colab-df-convert');\n",
              "      buttonEl.style.display =\n",
              "        google.colab.kernel.accessAllowed ? 'block' : 'none';\n",
              "\n",
              "      async function convertToInteractive(key) {\n",
              "        const element = document.querySelector('#df-fe2110d8-1db0-4d7a-861d-c548037e5bad');\n",
              "        const dataTable =\n",
              "          await google.colab.kernel.invokeFunction('convertToInteractive',\n",
              "                                                    [key], {});\n",
              "        if (!dataTable) return;\n",
              "\n",
              "        const docLinkHtml = 'Like what you see? Visit the ' +\n",
              "          '<a target=\"_blank\" href=https://colab.research.google.com/notebooks/data_table.ipynb>data table notebook</a>'\n",
              "          + ' to learn more about interactive tables.';\n",
              "        element.innerHTML = '';\n",
              "        dataTable['output_type'] = 'display_data';\n",
              "        await google.colab.output.renderOutput(dataTable, element);\n",
              "        const docLink = document.createElement('div');\n",
              "        docLink.innerHTML = docLinkHtml;\n",
              "        element.appendChild(docLink);\n",
              "      }\n",
              "    </script>\n",
              "  </div>\n",
              "\n",
              "\n",
              "<div id=\"df-dfd11a1f-9dc0-473f-8326-e1e6ffd462ee\">\n",
              "  <button class=\"colab-df-quickchart\" onclick=\"quickchart('df-dfd11a1f-9dc0-473f-8326-e1e6ffd462ee')\"\n",
              "            title=\"Suggest charts\"\n",
              "            style=\"display:none;\">\n",
              "\n",
              "<svg xmlns=\"http://www.w3.org/2000/svg\" height=\"24px\"viewBox=\"0 0 24 24\"\n",
              "     width=\"24px\">\n",
              "    <g>\n",
              "        <path d=\"M19 3H5c-1.1 0-2 .9-2 2v14c0 1.1.9 2 2 2h14c1.1 0 2-.9 2-2V5c0-1.1-.9-2-2-2zM9 17H7v-7h2v7zm4 0h-2V7h2v10zm4 0h-2v-4h2v4z\"/>\n",
              "    </g>\n",
              "</svg>\n",
              "  </button>\n",
              "\n",
              "<style>\n",
              "  .colab-df-quickchart {\n",
              "      --bg-color: #E8F0FE;\n",
              "      --fill-color: #1967D2;\n",
              "      --hover-bg-color: #E2EBFA;\n",
              "      --hover-fill-color: #174EA6;\n",
              "      --disabled-fill-color: #AAA;\n",
              "      --disabled-bg-color: #DDD;\n",
              "  }\n",
              "\n",
              "  [theme=dark] .colab-df-quickchart {\n",
              "      --bg-color: #3B4455;\n",
              "      --fill-color: #D2E3FC;\n",
              "      --hover-bg-color: #434B5C;\n",
              "      --hover-fill-color: #FFFFFF;\n",
              "      --disabled-bg-color: #3B4455;\n",
              "      --disabled-fill-color: #666;\n",
              "  }\n",
              "\n",
              "  .colab-df-quickchart {\n",
              "    background-color: var(--bg-color);\n",
              "    border: none;\n",
              "    border-radius: 50%;\n",
              "    cursor: pointer;\n",
              "    display: none;\n",
              "    fill: var(--fill-color);\n",
              "    height: 32px;\n",
              "    padding: 0;\n",
              "    width: 32px;\n",
              "  }\n",
              "\n",
              "  .colab-df-quickchart:hover {\n",
              "    background-color: var(--hover-bg-color);\n",
              "    box-shadow: 0 1px 2px rgba(60, 64, 67, 0.3), 0 1px 3px 1px rgba(60, 64, 67, 0.15);\n",
              "    fill: var(--button-hover-fill-color);\n",
              "  }\n",
              "\n",
              "  .colab-df-quickchart-complete:disabled,\n",
              "  .colab-df-quickchart-complete:disabled:hover {\n",
              "    background-color: var(--disabled-bg-color);\n",
              "    fill: var(--disabled-fill-color);\n",
              "    box-shadow: none;\n",
              "  }\n",
              "\n",
              "  .colab-df-spinner {\n",
              "    border: 2px solid var(--fill-color);\n",
              "    border-color: transparent;\n",
              "    border-bottom-color: var(--fill-color);\n",
              "    animation:\n",
              "      spin 1s steps(1) infinite;\n",
              "  }\n",
              "\n",
              "  @keyframes spin {\n",
              "    0% {\n",
              "      border-color: transparent;\n",
              "      border-bottom-color: var(--fill-color);\n",
              "      border-left-color: var(--fill-color);\n",
              "    }\n",
              "    20% {\n",
              "      border-color: transparent;\n",
              "      border-left-color: var(--fill-color);\n",
              "      border-top-color: var(--fill-color);\n",
              "    }\n",
              "    30% {\n",
              "      border-color: transparent;\n",
              "      border-left-color: var(--fill-color);\n",
              "      border-top-color: var(--fill-color);\n",
              "      border-right-color: var(--fill-color);\n",
              "    }\n",
              "    40% {\n",
              "      border-color: transparent;\n",
              "      border-right-color: var(--fill-color);\n",
              "      border-top-color: var(--fill-color);\n",
              "    }\n",
              "    60% {\n",
              "      border-color: transparent;\n",
              "      border-right-color: var(--fill-color);\n",
              "    }\n",
              "    80% {\n",
              "      border-color: transparent;\n",
              "      border-right-color: var(--fill-color);\n",
              "      border-bottom-color: var(--fill-color);\n",
              "    }\n",
              "    90% {\n",
              "      border-color: transparent;\n",
              "      border-bottom-color: var(--fill-color);\n",
              "    }\n",
              "  }\n",
              "</style>\n",
              "\n",
              "  <script>\n",
              "    async function quickchart(key) {\n",
              "      const quickchartButtonEl =\n",
              "        document.querySelector('#' + key + ' button');\n",
              "      quickchartButtonEl.disabled = true;  // To prevent multiple clicks.\n",
              "      quickchartButtonEl.classList.add('colab-df-spinner');\n",
              "      try {\n",
              "        const charts = await google.colab.kernel.invokeFunction(\n",
              "            'suggestCharts', [key], {});\n",
              "      } catch (error) {\n",
              "        console.error('Error during call to suggestCharts:', error);\n",
              "      }\n",
              "      quickchartButtonEl.classList.remove('colab-df-spinner');\n",
              "      quickchartButtonEl.classList.add('colab-df-quickchart-complete');\n",
              "    }\n",
              "    (() => {\n",
              "      let quickchartButtonEl =\n",
              "        document.querySelector('#df-dfd11a1f-9dc0-473f-8326-e1e6ffd462ee button');\n",
              "      quickchartButtonEl.style.display =\n",
              "        google.colab.kernel.accessAllowed ? 'block' : 'none';\n",
              "    })();\n",
              "  </script>\n",
              "</div>\n",
              "\n",
              "    </div>\n",
              "  </div>\n"
            ],
            "application/vnd.google.colaboratory.intrinsic+json": {
              "type": "dataframe",
              "variable_name": "data",
              "summary": "{\n  \"name\": \"data\",\n  \"rows\": 150,\n  \"fields\": [\n    {\n      \"column\": \"sepallength\",\n      \"properties\": {\n        \"dtype\": \"number\",\n        \"std\": 0.828066127977863,\n        \"min\": 4.3,\n        \"max\": 7.9,\n        \"num_unique_values\": 35,\n        \"samples\": [\n          6.2,\n          4.5,\n          5.6\n        ],\n        \"semantic_type\": \"\",\n        \"description\": \"\"\n      }\n    },\n    {\n      \"column\": \"sepalwidth\",\n      \"properties\": {\n        \"dtype\": \"number\",\n        \"std\": 0.4335943113621737,\n        \"min\": 2.0,\n        \"max\": 4.4,\n        \"num_unique_values\": 23,\n        \"samples\": [\n          2.3,\n          4.0,\n          3.5\n        ],\n        \"semantic_type\": \"\",\n        \"description\": \"\"\n      }\n    },\n    {\n      \"column\": \"petallength\",\n      \"properties\": {\n        \"dtype\": \"number\",\n        \"std\": 1.7644204199522626,\n        \"min\": 1.0,\n        \"max\": 6.9,\n        \"num_unique_values\": 43,\n        \"samples\": [\n          6.7,\n          3.8,\n          3.7\n        ],\n        \"semantic_type\": \"\",\n        \"description\": \"\"\n      }\n    },\n    {\n      \"column\": \"petalwidth\",\n      \"properties\": {\n        \"dtype\": \"number\",\n        \"std\": 0.7631607417008411,\n        \"min\": 0.1,\n        \"max\": 2.5,\n        \"num_unique_values\": 22,\n        \"samples\": [\n          0.2,\n          1.2,\n          1.3\n        ],\n        \"semantic_type\": \"\",\n        \"description\": \"\"\n      }\n    },\n    {\n      \"column\": \"class\",\n      \"properties\": {\n        \"dtype\": \"category\",\n        \"num_unique_values\": 3,\n        \"samples\": [\n          \"Iris-setosa\",\n          \"Iris-versicolor\",\n          \"Iris-virginica\"\n        ],\n        \"semantic_type\": \"\",\n        \"description\": \"\"\n      }\n    }\n  ]\n}"
            }
          },
          "metadata": {},
          "execution_count": 578
        }
      ]
    },
    {
      "cell_type": "code",
      "source": [
        "data.columns"
      ],
      "metadata": {
        "colab": {
          "base_uri": "https://localhost:8080/"
        },
        "id": "pjrTCgsVsdiL",
        "outputId": "7af02cfb-94a9-4fe7-9281-ce090a513b19"
      },
      "execution_count": 579,
      "outputs": [
        {
          "output_type": "execute_result",
          "data": {
            "text/plain": [
              "Index(['sepallength', 'sepalwidth', 'petallength', 'petalwidth', 'class'], dtype='object')"
            ]
          },
          "metadata": {},
          "execution_count": 579
        }
      ]
    },
    {
      "cell_type": "code",
      "source": [
        "data.shape"
      ],
      "metadata": {
        "colab": {
          "base_uri": "https://localhost:8080/"
        },
        "id": "-rQEndLW35TG",
        "outputId": "c5dd85cc-de61-4882-f8ed-1337d07b435c"
      },
      "execution_count": 580,
      "outputs": [
        {
          "output_type": "execute_result",
          "data": {
            "text/plain": [
              "(150, 5)"
            ]
          },
          "metadata": {},
          "execution_count": 580
        }
      ]
    },
    {
      "cell_type": "code",
      "source": [
        "data.isnull().sum()"
      ],
      "metadata": {
        "colab": {
          "base_uri": "https://localhost:8080/"
        },
        "id": "hCMMws0hsdac",
        "outputId": "e089f319-f9e5-4dd1-9883-c3af539310b3"
      },
      "execution_count": 581,
      "outputs": [
        {
          "output_type": "execute_result",
          "data": {
            "text/plain": [
              "sepallength    0\n",
              "sepalwidth     0\n",
              "petallength    0\n",
              "petalwidth     0\n",
              "class          0\n",
              "dtype: int64"
            ]
          },
          "metadata": {},
          "execution_count": 581
        }
      ]
    },
    {
      "cell_type": "code",
      "source": [
        "# Assuming the last column is the label\n",
        "X = data.drop(columns=['class'])\n",
        "y = data['class']"
      ],
      "metadata": {
        "id": "9gP4Pnwr3dJh"
      },
      "execution_count": 582,
      "outputs": []
    },
    {
      "cell_type": "code",
      "source": [
        "scaler = StandardScaler()\n",
        "X_normalized = scaler.fit_transform(X)"
      ],
      "metadata": {
        "id": "cPt147GOCyRK"
      },
      "execution_count": 583,
      "outputs": []
    },
    {
      "cell_type": "code",
      "source": [
        "# Encode class labels to integers\n",
        "label_encoder = LabelEncoder()\n",
        "y_encoded = label_encoder.fit_transform(y)"
      ],
      "metadata": {
        "id": "ziwJUup03dHL"
      },
      "execution_count": 584,
      "outputs": []
    },
    {
      "cell_type": "code",
      "source": [
        "# Splits the dataset into training (70%) and test (30%) sets.\n",
        "X_train, X_test, y_train, y_test = train_test_split(X_normalized, y_encoded, test_size=0.3, random_state=42)\n",
        "\n"
      ],
      "metadata": {
        "id": "5Iibv1fQ3dEN"
      },
      "execution_count": 585,
      "outputs": []
    },
    {
      "cell_type": "markdown",
      "source": [
        "# 1.\t**Describe and develop the training and classification procedures by using the “one-versus-all” and “one-versus-one” strategy for SVM.**"
      ],
      "metadata": {
        "id": "179aXKTw6uNU"
      }
    },
    {
      "cell_type": "markdown",
      "source": [
        "**One-versus-One (OvO) Strategy for SVM**\n",
        "\n",
        "- Description: In the one-versus-one (OvO) strategy, a binary classifier is trained for every pair of classes. If there are $N$ classes, the results in $\\frac{N \\times (N-1)}{2}$ classifiers.\n",
        "\n",
        "- Procedure:\n",
        "\n",
        "  1. Training: Train a binary SVM classifier for each pair of classes.\n",
        "  2. Classification: To classify a new sample, run it through all classifiers. The class that wins the most duels (is chosen most frequently by the classifiers) is assigned to the sample.\n"
      ],
      "metadata": {
        "id": "dSpoPavARlrA"
      }
    },
    {
      "cell_type": "markdown",
      "source": [
        "**One-versus-All (OvA) Strategy for SVM**\n",
        "\n",
        "- Description: In the one-versus-all (OvA) strategy, a single classifier is trained per class to distinguish the samples of that class from samples of all other classes. For a problem with $N$ classes, $N$ separate binary classifiers are trained. For each classifier, the class it represents is treated as a positive class, while all other classes are merged into a negative class.\n",
        "\n",
        "- Procedure:\n",
        "\n",
        "  1. Training: For each class $i$, train a binary SVM classifier where class $i$ samples are considered positive, and all other samples are considered negative.\n",
        "\n",
        "  2. Classification: To classify a new sample, run it through all $N$ classifiers. The classifier that outputs the highest confidence score (distance from the decision boundary) assigns its class to the sample.\n",
        "\n"
      ],
      "metadata": {
        "id": "Yaw9WC28NeXo"
      }
    },
    {
      "cell_type": "markdown",
      "source": [
        "# 2.\t**Classify data set B by using binary Support Vector Machine classifiers with linear kernel and default parameters. Randomly split the data into 70% training and 30% test set. Report the classification overall accuracy, precision, recall, F1-score, and the confusion matrix of the classification results on the test set.**"
      ],
      "metadata": {
        "id": "p-ZMkJK6d5_r"
      }
    },
    {
      "cell_type": "code",
      "source": [
        "# Initialize the SVM One-vs-One classifier with a linear kernel\n",
        "model_one_one = SVC(decision_function_shape='ovo', kernel = 'linear')\n",
        "# Train the classifier\n",
        "model_one_one.fit(X_train, y_train)\n",
        "# Predict on the test set\n",
        "y_pred_one_one = model_one_one.predict(X_test)\n",
        "\n",
        "# Calculate evaluation metrics\n",
        "accuracy_one_one = accuracy_score(y_test, y_pred_one_one)\n",
        "precision_one_one = precision_score(y_test, y_pred_one_one, average='weighted')\n",
        "recall_one_one = recall_score(y_test, y_pred_one_one, average='weighted')\n",
        "f1_one_one = f1_score(y_test, y_pred_one_one, average='weighted')\n",
        "conf_matrix_one_one = confusion_matrix(y_test, y_pred_one_one)"
      ],
      "metadata": {
        "id": "Rjv58Cim5k_j"
      },
      "execution_count": 586,
      "outputs": []
    },
    {
      "cell_type": "code",
      "source": [
        "# Initialize the SVM One-vs-All classifier with a linear kernel\n",
        "model_one_all = SVC(decision_function_shape='ovr', kernel = 'linear')\n",
        "# Train the classifier\n",
        "model_one_all.fit(X_train, y_train)\n",
        "# Predict on the test set\n",
        "y_pred_one_all = model_one_all.predict(X_test)\n",
        "\n",
        "# Calculate evaluation metrics\n",
        "accuracy_one_all = accuracy_score(y_test, y_pred_one_all)\n",
        "precision_one_all = precision_score(y_test, y_pred_one_all, average='weighted')\n",
        "recall_one_all = recall_score(y_test, y_pred_one_all, average='weighted')\n",
        "f1_one_all = f1_score(y_test, y_pred_one_all, average='weighted')\n",
        "conf_matrix_one_all = confusion_matrix(y_test, y_pred_one_all)"
      ],
      "metadata": {
        "id": "UcSFOMGr5k6c"
      },
      "execution_count": 587,
      "outputs": []
    },
    {
      "cell_type": "code",
      "source": [
        "print(\"One-vs-One:\")\n",
        "print(f\"Accuracy for one-versus-one: {accuracy_one_one}\")\n",
        "print(f\"Precision for one-versus-one: {precision_one_one}\")\n",
        "print(f\"Recall for one-versus-one: {recall_one_one}\")\n",
        "print(f\"F1-Score for one-versus-one: {f1_one_one}\")\n",
        "print(\"Confusion Matrix for one-versus-one:\")\n",
        "print(conf_matrix_one_one)"
      ],
      "metadata": {
        "colab": {
          "base_uri": "https://localhost:8080/"
        },
        "id": "LBS_4j-zUlmN",
        "outputId": "930f2a98-3410-4271-cf66-a35c02a6a573"
      },
      "execution_count": 588,
      "outputs": [
        {
          "output_type": "stream",
          "name": "stdout",
          "text": [
            "One-vs-One:\n",
            "Accuracy for one-versus-one: 0.9777777777777777\n",
            "Precision for one-versus-one: 0.9793650793650793\n",
            "Recall for one-versus-one: 0.9777777777777777\n",
            "F1-Score for one-versus-one: 0.9777448559670783\n",
            "Confusion Matrix for one-versus-one:\n",
            "[[19  0  0]\n",
            " [ 0 12  1]\n",
            " [ 0  0 13]]\n"
          ]
        }
      ]
    },
    {
      "cell_type": "code",
      "source": [
        "print(\"One-vs-All:\")\n",
        "print(f\"Accuracy for one-versus-all: {accuracy_one_all}\")\n",
        "print(f\"Precision for one-versus-all: {precision_one_all}\")\n",
        "print(f\"Recall for one-versus-all: {recall_one_all}\")\n",
        "print(f\"F1-Score for one-versus-all: {f1_one_all}\")\n",
        "print(\"Confusion Matrix for one-versus-all:\")\n",
        "print(conf_matrix_one_all)"
      ],
      "metadata": {
        "colab": {
          "base_uri": "https://localhost:8080/"
        },
        "id": "UT41NP_jUbZP",
        "outputId": "246952e7-9a6b-4c55-dcc5-c21795ccc6e7"
      },
      "execution_count": 589,
      "outputs": [
        {
          "output_type": "stream",
          "name": "stdout",
          "text": [
            "One-vs-All:\n",
            "Accuracy for one-versus-all: 0.9777777777777777\n",
            "Precision for one-versus-all: 0.9793650793650793\n",
            "Recall for one-versus-all: 0.9777777777777777\n",
            "F1-Score for one-versus-all: 0.9777448559670783\n",
            "Confusion Matrix for one-versus-all:\n",
            "[[19  0  0]\n",
            " [ 0 12  1]\n",
            " [ 0  0 13]]\n"
          ]
        }
      ]
    },
    {
      "cell_type": "markdown",
      "source": [
        "When using a Support Vector Machine (SVM) with a 'linear' kernel or without specifying kernel settings, choosing between One-vs-One (OvO) and One-vs-All (OvA) strategies can result in different classification outcomes due to their distinct approaches to handling multi-class classification"
      ],
      "metadata": {
        "id": "RDjoLKbcgccZ"
      }
    },
    {
      "cell_type": "code",
      "source": [
        "# Initialize the SVM classifier with linear kernel and default parameters\n",
        "svm_classifier = SVC(kernel='linear')\n",
        "\n",
        "# Train the SVM classifier on the training data\n",
        "svm_classifier.fit(X_train, y_train)\n",
        "\n",
        "# Predict labels for the test set\n",
        "y_pred = svm_classifier.predict(X_test)"
      ],
      "metadata": {
        "id": "fNLlF0nS3dBe"
      },
      "execution_count": 590,
      "outputs": []
    },
    {
      "cell_type": "code",
      "source": [
        "# Calculate evaluation metrics\n",
        "accuracy = accuracy_score(y_test, y_pred)\n",
        "precision = precision_score(y_test, y_pred, average='weighted')\n",
        "recall = recall_score(y_test, y_pred, average='weighted')\n",
        "f1 = f1_score(y_test, y_pred, average='weighted')\n",
        "conf_matrix = confusion_matrix(y_test, y_pred)\n",
        "\n",
        "\n",
        "print(f\"SVM classifier Accuracy: {accuracy}\")\n",
        "print(f\"SVM classifier Precision: {precision}\")\n",
        "print(f\"SVM classifier Recall: {recall}\")\n",
        "print(f\"SVM classifier F1-Score: {f1}\")\n",
        "print(\"SVM classifier Confusion Matrix:\")\n",
        "print(conf_matrix)"
      ],
      "metadata": {
        "colab": {
          "base_uri": "https://localhost:8080/"
        },
        "id": "nNa68C5tfUkQ",
        "outputId": "8e69ae82-bd5e-44a2-9a29-bf02978349b1"
      },
      "execution_count": 591,
      "outputs": [
        {
          "output_type": "stream",
          "name": "stdout",
          "text": [
            "SVM classifier Accuracy: 0.9777777777777777\n",
            "SVM classifier Precision: 0.9793650793650793\n",
            "SVM classifier Recall: 0.9777777777777777\n",
            "SVM classifier F1-Score: 0.9777448559670783\n",
            "SVM classifier Confusion Matrix:\n",
            "[[19  0  0]\n",
            " [ 0 12  1]\n",
            " [ 0  0 13]]\n"
          ]
        }
      ]
    },
    {
      "cell_type": "markdown",
      "source": [
        "The results for One-vs-One and One-vs-All strategies mentioned above are based on a normalized dataset. Without data normalization, the outputs for both strategies could differ due to variations in feature scales.\n",
        "\n",
        "The effectiveness of One-vs-One and One-vs-All strategies in SVM classification can be significantly influenced by whether the dataset is normalized. Without normalization, the disparities in scale among features can lead to different outcomes for both strategies, potentially affecting their performance and accuracy."
      ],
      "metadata": {
        "id": "XL_xcA0msY3t"
      }
    },
    {
      "cell_type": "markdown",
      "source": [
        "# 3.\t**How does the decision tree classifier deal with the multi-class problem? Classify data set B using decision tree with default parameters, report the classification results. Comment and compare the methods of SVM and decision tree.**"
      ],
      "metadata": {
        "id": "p7DSv_pGbVtA"
      }
    },
    {
      "cell_type": "markdown",
      "source": [
        "For Decision Tree classifiers, both One-vs-One (OvO) and One-vs-All (OvA) strategies can be applied:\n",
        "\n",
        "- **OvO**: A binary decision tree is created for each class pair, each trained to differentiate between its two classes. The final prediction is made based on the majority vote from all trees.\n",
        "\n",
        "- **OvA**: A binary decision tree is created for each class to distinguish it from all others. The final prediction is the class that a decision tree identifies with the highest confidence.\n",
        "\n",
        "\n",
        "A Decision Tree classifier handles multi-class problems directly by:\n",
        "\n",
        "- **Natively Supporting Multi-Class**: Can classify instances into multiple classes without needing special strategies.\n",
        "- **Hierarchical Splitting**: Uses feature values to recursively split the data, creating branches and leaves that correspond to different classes.\n",
        "- **Purity-Based Decisions**: Chooses splits based on measures like Gini impurity or entropy to best separate classes.\n",
        "- **Binary Splits for Multi-Class**: Although splits are binary, the hierarchical nature allows for efficient multi-class classification.\n",
        "- **Leaf Nodes Represent Classes**: Each leaf node predicts a class, guiding instances to the appropriate class based on their features."
      ],
      "metadata": {
        "id": "H0mN3T0EbRjZ"
      }
    },
    {
      "cell_type": "code",
      "source": [
        "# Splits the dataset into training (70%) and test (30%) sets without feature scaling\n",
        "X_train, X_test, y_train, y_test = train_test_split(X, y_encoded, test_size=0.3, random_state=42)"
      ],
      "metadata": {
        "id": "tLoMWb0Cix7-"
      },
      "execution_count": 592,
      "outputs": []
    },
    {
      "cell_type": "code",
      "source": [
        "# Initialize the Decision Tree classifier\n",
        "dt_classifier  = DecisionTreeClassifier()\n",
        "\n",
        "# Train the classifier\n",
        "dt_classifier  = dt_classifier .fit(X_train, y_train)\n",
        "\n",
        "# Predict on the test se\n",
        "y_pred_dt  = dt_classifier .predict(X_test)"
      ],
      "metadata": {
        "id": "dj6Ogu847mgb"
      },
      "execution_count": 593,
      "outputs": []
    },
    {
      "cell_type": "code",
      "source": [
        "# Calculate evaluation metrics\n",
        "accuracy_dt = accuracy_score(y_test, y_pred_dt )\n",
        "precision_dt = precision_score(y_test, y_pred_dt , average='weighted')\n",
        "recall_dt = recall_score(y_test, y_pred_dt , average='weighted')\n",
        "f1_dt = f1_score(y_test, y_pred_dt , average='weighted')\n",
        "conf_matrix_dt = confusion_matrix(y_test, y_pred_dt )\n",
        "\n",
        "\n",
        "print(f\"Decision Tree Accuracy: {accuracy_dt}\")\n",
        "print(f\"Decision Tree Precision: {precision_dt}\")\n",
        "print(f\"Decision Tree Recall: {recall_dt}\")\n",
        "print(f\"Decision Tree F1 Score: {f1_dt}\")\n",
        "print(f\"Decision Tree Confusion Matrix:\\n{conf_matrix_dt}\")"
      ],
      "metadata": {
        "colab": {
          "base_uri": "https://localhost:8080/"
        },
        "id": "EHBoh_3NULxn",
        "outputId": "f1e2be7a-4908-448e-fa7d-7ea8fe0bea52"
      },
      "execution_count": 594,
      "outputs": [
        {
          "output_type": "stream",
          "name": "stdout",
          "text": [
            "Decision Tree Accuracy: 1.0\n",
            "Decision Tree Precision: 1.0\n",
            "Decision Tree Recall: 1.0\n",
            "Decision Tree F1 Score: 1.0\n",
            "Decision Tree Confusion Matrix:\n",
            "[[19  0  0]\n",
            " [ 0 13  0]\n",
            " [ 0  0 13]]\n"
          ]
        }
      ]
    },
    {
      "cell_type": "markdown",
      "source": [
        "- **Multi-Class Handling**:\n",
        "  - **SVM**: Uses One-versus-All or One-versus-One strategies for multi-class classification, increasing complexity.\n",
        "  - **Decision Tree**: Natively supports multi-class classification without additional complexity.\n",
        "\n",
        "- **Performance**:\n",
        "  - **SVM**: Often excels in precision and recall for linearly separable data, with the ability to handle high-dimensional spaces effectively.\n",
        "  - **Decision Tree**: Can capture complex patterns but may overfit, affecting precision and recall.\n",
        "\n",
        "- **Interpretability**:\n",
        "  - **SVM**: Less intuitive due to abstract concepts like hyperplanes and support vectors.\n",
        "  - **Decision Tree**: Highly interpretable with a clear visualization of decision paths.\n",
        "\n",
        "- **Model Complexity and Overfitting**:\n",
        "  - **SVM**: Requires careful selection of kernel and regularization to balance bias and variance.\n",
        "  - **Decision Tree**: Prone to overfitting, especially with deep trees; requires pruning or constraints to ensure generalizability.\n",
        "\n",
        "Overall, the choice between SVM and Decision Trees depends on the specific needs for interpretability, the nature of the dataset, and the trade-off between performance and model complexity."
      ],
      "metadata": {
        "id": "w_WDsPwQXg5i"
      }
    }
  ]
}