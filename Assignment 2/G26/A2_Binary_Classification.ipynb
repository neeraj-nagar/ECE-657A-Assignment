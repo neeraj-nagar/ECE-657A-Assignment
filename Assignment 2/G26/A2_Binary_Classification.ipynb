{
 "cells": [
  {
   "cell_type": "markdown",
   "metadata": {},
   "source": [
    "# **Binary Classification**  \n",
    "\n",
    "### Classify data set A1 using four classifiers: k-NN, Support Vector Machine (with rbf kernel), Naïve Bayes Classifier, and Decision Tree. The objective is to experiment with parameter selection in training classifiers and to compare the performance of these well-known classification methods. "
   ]
  },
  {
   "cell_type": "code",
   "execution_count": 25,
   "metadata": {},
   "outputs": [],
   "source": [
    "#Importing Necessary Libraries\n",
    "import numpy as np\n",
    "import pandas as pd\n",
    "import seaborn as sns\n",
    "import matplotlib.pyplot as plt\n",
    "from sklearn.model_selection import train_test_split, GridSearchCV,cross_val_score\n",
    "from sklearn.preprocessing import StandardScaler\n",
    "from sklearn.neighbors import KNeighborsClassifier\n",
    "from sklearn.metrics import accuracy_score, precision_score, recall_score, f1_score\n",
    "from sklearn.naive_bayes import GaussianNB\n",
    "from sklearn.tree import DecisionTreeClassifier\n",
    "from sklearn.svm import SVC\n",
    "from statistics import mean, stdev\n",
    "from matplotlib.ticker import MultipleLocator\n",
    "from scipy.stats import norm "
   ]
  },
  {
   "cell_type": "code",
   "execution_count": 26,
   "metadata": {},
   "outputs": [
    {
     "data": {
      "text/html": [
       "<div>\n",
       "<style scoped>\n",
       "    .dataframe tbody tr th:only-of-type {\n",
       "        vertical-align: middle;\n",
       "    }\n",
       "\n",
       "    .dataframe tbody tr th {\n",
       "        vertical-align: top;\n",
       "    }\n",
       "\n",
       "    .dataframe thead th {\n",
       "        text-align: right;\n",
       "    }\n",
       "</style>\n",
       "<table border=\"1\" class=\"dataframe\">\n",
       "  <thead>\n",
       "    <tr style=\"text-align: right;\">\n",
       "      <th></th>\n",
       "      <th>Feature1</th>\n",
       "      <th>Feature2</th>\n",
       "      <th>Feature3</th>\n",
       "      <th>Feature4</th>\n",
       "      <th>Feature5</th>\n",
       "      <th>Feature6</th>\n",
       "      <th>Feature7</th>\n",
       "      <th>Feature8</th>\n",
       "      <th>Feature9</th>\n",
       "      <th>Feature10</th>\n",
       "      <th>...</th>\n",
       "      <th>Feature49</th>\n",
       "      <th>Feature50</th>\n",
       "      <th>Feature51</th>\n",
       "      <th>Feature52</th>\n",
       "      <th>Feature53</th>\n",
       "      <th>Feature54</th>\n",
       "      <th>Feature55</th>\n",
       "      <th>Feature56</th>\n",
       "      <th>Feature57</th>\n",
       "      <th>Label</th>\n",
       "    </tr>\n",
       "  </thead>\n",
       "  <tbody>\n",
       "    <tr>\n",
       "      <th>0</th>\n",
       "      <td>1</td>\n",
       "      <td>2</td>\n",
       "      <td>1</td>\n",
       "      <td>2</td>\n",
       "      <td>1</td>\n",
       "      <td>2</td>\n",
       "      <td>3</td>\n",
       "      <td>3</td>\n",
       "      <td>3</td>\n",
       "      <td>3</td>\n",
       "      <td>...</td>\n",
       "      <td>3</td>\n",
       "      <td>2</td>\n",
       "      <td>3</td>\n",
       "      <td>4</td>\n",
       "      <td>2</td>\n",
       "      <td>2</td>\n",
       "      <td>2</td>\n",
       "      <td>2</td>\n",
       "      <td>1</td>\n",
       "      <td>1</td>\n",
       "    </tr>\n",
       "    <tr>\n",
       "      <th>1</th>\n",
       "      <td>3</td>\n",
       "      <td>3</td>\n",
       "      <td>4</td>\n",
       "      <td>2</td>\n",
       "      <td>1</td>\n",
       "      <td>2</td>\n",
       "      <td>2</td>\n",
       "      <td>4</td>\n",
       "      <td>3</td>\n",
       "      <td>2</td>\n",
       "      <td>...</td>\n",
       "      <td>1</td>\n",
       "      <td>4</td>\n",
       "      <td>3</td>\n",
       "      <td>4</td>\n",
       "      <td>4</td>\n",
       "      <td>4</td>\n",
       "      <td>1</td>\n",
       "      <td>3</td>\n",
       "      <td>4</td>\n",
       "      <td>1</td>\n",
       "    </tr>\n",
       "    <tr>\n",
       "      <th>2</th>\n",
       "      <td>4</td>\n",
       "      <td>1</td>\n",
       "      <td>4</td>\n",
       "      <td>4</td>\n",
       "      <td>4</td>\n",
       "      <td>4</td>\n",
       "      <td>1</td>\n",
       "      <td>1</td>\n",
       "      <td>2</td>\n",
       "      <td>1</td>\n",
       "      <td>...</td>\n",
       "      <td>1</td>\n",
       "      <td>2</td>\n",
       "      <td>1</td>\n",
       "      <td>1</td>\n",
       "      <td>4</td>\n",
       "      <td>2</td>\n",
       "      <td>2</td>\n",
       "      <td>4</td>\n",
       "      <td>4</td>\n",
       "      <td>1</td>\n",
       "    </tr>\n",
       "    <tr>\n",
       "      <th>3</th>\n",
       "      <td>1</td>\n",
       "      <td>4</td>\n",
       "      <td>1</td>\n",
       "      <td>1</td>\n",
       "      <td>3</td>\n",
       "      <td>3</td>\n",
       "      <td>4</td>\n",
       "      <td>4</td>\n",
       "      <td>3</td>\n",
       "      <td>4</td>\n",
       "      <td>...</td>\n",
       "      <td>1</td>\n",
       "      <td>3</td>\n",
       "      <td>3</td>\n",
       "      <td>4</td>\n",
       "      <td>1</td>\n",
       "      <td>3</td>\n",
       "      <td>3</td>\n",
       "      <td>4</td>\n",
       "      <td>2</td>\n",
       "      <td>-1</td>\n",
       "    </tr>\n",
       "    <tr>\n",
       "      <th>4</th>\n",
       "      <td>3</td>\n",
       "      <td>4</td>\n",
       "      <td>4</td>\n",
       "      <td>3</td>\n",
       "      <td>1</td>\n",
       "      <td>1</td>\n",
       "      <td>4</td>\n",
       "      <td>4</td>\n",
       "      <td>4</td>\n",
       "      <td>1</td>\n",
       "      <td>...</td>\n",
       "      <td>3</td>\n",
       "      <td>1</td>\n",
       "      <td>3</td>\n",
       "      <td>2</td>\n",
       "      <td>1</td>\n",
       "      <td>4</td>\n",
       "      <td>2</td>\n",
       "      <td>1</td>\n",
       "      <td>1</td>\n",
       "      <td>-1</td>\n",
       "    </tr>\n",
       "  </tbody>\n",
       "</table>\n",
       "<p>5 rows × 58 columns</p>\n",
       "</div>"
      ],
      "text/plain": [
       "   Feature1  Feature2  Feature3  Feature4  Feature5  Feature6  Feature7  \\\n",
       "0         1         2         1         2         1         2         3   \n",
       "1         3         3         4         2         1         2         2   \n",
       "2         4         1         4         4         4         4         1   \n",
       "3         1         4         1         1         3         3         4   \n",
       "4         3         4         4         3         1         1         4   \n",
       "\n",
       "   Feature8  Feature9  Feature10  ...  Feature49  Feature50  Feature51  \\\n",
       "0         3         3          3  ...          3          2          3   \n",
       "1         4         3          2  ...          1          4          3   \n",
       "2         1         2          1  ...          1          2          1   \n",
       "3         4         3          4  ...          1          3          3   \n",
       "4         4         4          1  ...          3          1          3   \n",
       "\n",
       "   Feature52  Feature53  Feature54  Feature55  Feature56  Feature57  Label  \n",
       "0          4          2          2          2          2          1      1  \n",
       "1          4          4          4          1          3          4      1  \n",
       "2          1          4          2          2          4          4      1  \n",
       "3          4          1          3          3          4          2     -1  \n",
       "4          2          1          4          2          1          1     -1  \n",
       "\n",
       "[5 rows x 58 columns]"
      ]
     },
     "execution_count": 26,
     "metadata": {},
     "output_type": "execute_result"
    }
   ],
   "source": [
    "# Loading DataA1\n",
    "DataA1 = pd.read_csv('DataA1.csv',encoding='latin-1')\n",
    "DataA1.head()"
   ]
  },
  {
   "cell_type": "code",
   "execution_count": 27,
   "metadata": {},
   "outputs": [
    {
     "name": "stdout",
     "output_type": "stream",
     "text": [
      "Index(['Feature1', 'Feature2', 'Feature3', 'Feature4', 'Feature5', 'Feature6',\n",
      "       'Feature7', 'Feature8', 'Feature9', 'Feature10', 'Feature11',\n",
      "       'Feature12', 'Feature13', 'Feature14', 'Feature15', 'Feature16',\n",
      "       'Feature17', 'Feature18', 'Feature19', 'Feature20', 'Feature21',\n",
      "       'Feature22', 'Feature23', 'Feature24', 'Feature25', 'Feature26',\n",
      "       'Feature27', 'Feature28', 'Feature29', 'Feature30', 'Feature31',\n",
      "       'Feature32', 'Feature33', 'Feature34', 'Feature35', 'Feature36',\n",
      "       'Feature37', 'Feature38', 'Feature39', 'Feature40', 'Feature41',\n",
      "       'Feature42', 'Feature43', 'Feature44', 'Feature45', 'Feature46',\n",
      "       'Feature47', 'Feature48', 'Feature49', 'Feature50', 'Feature51',\n",
      "       'Feature52', 'Feature53', 'Feature54', 'Feature55', 'Feature56',\n",
      "       'Feature57', 'Label'],\n",
      "      dtype='object')\n"
     ]
    }
   ],
   "source": [
    "#Print the columns\n",
    "print(DataA1.columns)"
   ]
  },
  {
   "cell_type": "code",
   "execution_count": 28,
   "metadata": {},
   "outputs": [
    {
     "data": {
      "text/plain": [
       "(2200, 58)"
      ]
     },
     "execution_count": 28,
     "metadata": {},
     "output_type": "execute_result"
    }
   ],
   "source": [
    "#Get the shape of the dataset\n",
    "DataA1.shape"
   ]
  },
  {
   "cell_type": "code",
   "execution_count": 29,
   "metadata": {},
   "outputs": [
    {
     "data": {
      "text/html": [
       "<div>\n",
       "<style scoped>\n",
       "    .dataframe tbody tr th:only-of-type {\n",
       "        vertical-align: middle;\n",
       "    }\n",
       "\n",
       "    .dataframe tbody tr th {\n",
       "        vertical-align: top;\n",
       "    }\n",
       "\n",
       "    .dataframe thead th {\n",
       "        text-align: right;\n",
       "    }\n",
       "</style>\n",
       "<table border=\"1\" class=\"dataframe\">\n",
       "  <thead>\n",
       "    <tr style=\"text-align: right;\">\n",
       "      <th></th>\n",
       "      <th>Feature1</th>\n",
       "      <th>Feature2</th>\n",
       "      <th>Feature3</th>\n",
       "      <th>Feature4</th>\n",
       "      <th>Feature5</th>\n",
       "      <th>Feature6</th>\n",
       "      <th>Feature7</th>\n",
       "      <th>Feature8</th>\n",
       "      <th>Feature9</th>\n",
       "      <th>Feature10</th>\n",
       "      <th>...</th>\n",
       "      <th>Feature49</th>\n",
       "      <th>Feature50</th>\n",
       "      <th>Feature51</th>\n",
       "      <th>Feature52</th>\n",
       "      <th>Feature53</th>\n",
       "      <th>Feature54</th>\n",
       "      <th>Feature55</th>\n",
       "      <th>Feature56</th>\n",
       "      <th>Feature57</th>\n",
       "      <th>Label</th>\n",
       "    </tr>\n",
       "  </thead>\n",
       "  <tbody>\n",
       "    <tr>\n",
       "      <th>0</th>\n",
       "      <td>1</td>\n",
       "      <td>2</td>\n",
       "      <td>1</td>\n",
       "      <td>2</td>\n",
       "      <td>1</td>\n",
       "      <td>2</td>\n",
       "      <td>3</td>\n",
       "      <td>3</td>\n",
       "      <td>3</td>\n",
       "      <td>3</td>\n",
       "      <td>...</td>\n",
       "      <td>3</td>\n",
       "      <td>2</td>\n",
       "      <td>3</td>\n",
       "      <td>4</td>\n",
       "      <td>2</td>\n",
       "      <td>2</td>\n",
       "      <td>2</td>\n",
       "      <td>2</td>\n",
       "      <td>1</td>\n",
       "      <td>1</td>\n",
       "    </tr>\n",
       "    <tr>\n",
       "      <th>1</th>\n",
       "      <td>3</td>\n",
       "      <td>3</td>\n",
       "      <td>4</td>\n",
       "      <td>2</td>\n",
       "      <td>1</td>\n",
       "      <td>2</td>\n",
       "      <td>2</td>\n",
       "      <td>4</td>\n",
       "      <td>3</td>\n",
       "      <td>2</td>\n",
       "      <td>...</td>\n",
       "      <td>1</td>\n",
       "      <td>4</td>\n",
       "      <td>3</td>\n",
       "      <td>4</td>\n",
       "      <td>4</td>\n",
       "      <td>4</td>\n",
       "      <td>1</td>\n",
       "      <td>3</td>\n",
       "      <td>4</td>\n",
       "      <td>1</td>\n",
       "    </tr>\n",
       "    <tr>\n",
       "      <th>2</th>\n",
       "      <td>4</td>\n",
       "      <td>1</td>\n",
       "      <td>4</td>\n",
       "      <td>4</td>\n",
       "      <td>4</td>\n",
       "      <td>4</td>\n",
       "      <td>1</td>\n",
       "      <td>1</td>\n",
       "      <td>2</td>\n",
       "      <td>1</td>\n",
       "      <td>...</td>\n",
       "      <td>1</td>\n",
       "      <td>2</td>\n",
       "      <td>1</td>\n",
       "      <td>1</td>\n",
       "      <td>4</td>\n",
       "      <td>2</td>\n",
       "      <td>2</td>\n",
       "      <td>4</td>\n",
       "      <td>4</td>\n",
       "      <td>1</td>\n",
       "    </tr>\n",
       "    <tr>\n",
       "      <th>3</th>\n",
       "      <td>1</td>\n",
       "      <td>4</td>\n",
       "      <td>1</td>\n",
       "      <td>1</td>\n",
       "      <td>3</td>\n",
       "      <td>3</td>\n",
       "      <td>4</td>\n",
       "      <td>4</td>\n",
       "      <td>3</td>\n",
       "      <td>4</td>\n",
       "      <td>...</td>\n",
       "      <td>1</td>\n",
       "      <td>3</td>\n",
       "      <td>3</td>\n",
       "      <td>4</td>\n",
       "      <td>1</td>\n",
       "      <td>3</td>\n",
       "      <td>3</td>\n",
       "      <td>4</td>\n",
       "      <td>2</td>\n",
       "      <td>-1</td>\n",
       "    </tr>\n",
       "    <tr>\n",
       "      <th>4</th>\n",
       "      <td>3</td>\n",
       "      <td>4</td>\n",
       "      <td>4</td>\n",
       "      <td>3</td>\n",
       "      <td>1</td>\n",
       "      <td>1</td>\n",
       "      <td>4</td>\n",
       "      <td>4</td>\n",
       "      <td>4</td>\n",
       "      <td>1</td>\n",
       "      <td>...</td>\n",
       "      <td>3</td>\n",
       "      <td>1</td>\n",
       "      <td>3</td>\n",
       "      <td>2</td>\n",
       "      <td>1</td>\n",
       "      <td>4</td>\n",
       "      <td>2</td>\n",
       "      <td>1</td>\n",
       "      <td>1</td>\n",
       "      <td>-1</td>\n",
       "    </tr>\n",
       "  </tbody>\n",
       "</table>\n",
       "<p>5 rows × 58 columns</p>\n",
       "</div>"
      ],
      "text/plain": [
       "   Feature1  Feature2  Feature3  Feature4  Feature5  Feature6  Feature7  \\\n",
       "0         1         2         1         2         1         2         3   \n",
       "1         3         3         4         2         1         2         2   \n",
       "2         4         1         4         4         4         4         1   \n",
       "3         1         4         1         1         3         3         4   \n",
       "4         3         4         4         3         1         1         4   \n",
       "\n",
       "   Feature8  Feature9  Feature10  ...  Feature49  Feature50  Feature51  \\\n",
       "0         3         3          3  ...          3          2          3   \n",
       "1         4         3          2  ...          1          4          3   \n",
       "2         1         2          1  ...          1          2          1   \n",
       "3         4         3          4  ...          1          3          3   \n",
       "4         4         4          1  ...          3          1          3   \n",
       "\n",
       "   Feature52  Feature53  Feature54  Feature55  Feature56  Feature57  Label  \n",
       "0          4          2          2          2          2          1      1  \n",
       "1          4          4          4          1          3          4      1  \n",
       "2          1          4          2          2          4          4      1  \n",
       "3          4          1          3          3          4          2     -1  \n",
       "4          2          1          4          2          1          1     -1  \n",
       "\n",
       "[5 rows x 58 columns]"
      ]
     },
     "execution_count": 29,
     "metadata": {},
     "output_type": "execute_result"
    }
   ],
   "source": [
    " #Get top 5 rows of the dataset\n",
    "DataA1.head()"
   ]
  },
  {
   "cell_type": "code",
   "execution_count": 30,
   "metadata": {},
   "outputs": [
    {
     "name": "stdout",
     "output_type": "stream",
     "text": [
      "<class 'pandas.core.frame.DataFrame'>\n",
      "RangeIndex: 2200 entries, 0 to 2199\n",
      "Data columns (total 58 columns):\n",
      " #   Column     Non-Null Count  Dtype\n",
      "---  ------     --------------  -----\n",
      " 0   Feature1   2200 non-null   int64\n",
      " 1   Feature2   2200 non-null   int64\n",
      " 2   Feature3   2200 non-null   int64\n",
      " 3   Feature4   2200 non-null   int64\n",
      " 4   Feature5   2200 non-null   int64\n",
      " 5   Feature6   2200 non-null   int64\n",
      " 6   Feature7   2200 non-null   int64\n",
      " 7   Feature8   2200 non-null   int64\n",
      " 8   Feature9   2200 non-null   int64\n",
      " 9   Feature10  2200 non-null   int64\n",
      " 10  Feature11  2200 non-null   int64\n",
      " 11  Feature12  2200 non-null   int64\n",
      " 12  Feature13  2200 non-null   int64\n",
      " 13  Feature14  2200 non-null   int64\n",
      " 14  Feature15  2200 non-null   int64\n",
      " 15  Feature16  2200 non-null   int64\n",
      " 16  Feature17  2200 non-null   int64\n",
      " 17  Feature18  2200 non-null   int64\n",
      " 18  Feature19  2200 non-null   int64\n",
      " 19  Feature20  2200 non-null   int64\n",
      " 20  Feature21  2200 non-null   int64\n",
      " 21  Feature22  2200 non-null   int64\n",
      " 22  Feature23  2200 non-null   int64\n",
      " 23  Feature24  2200 non-null   int64\n",
      " 24  Feature25  2200 non-null   int64\n",
      " 25  Feature26  2200 non-null   int64\n",
      " 26  Feature27  2200 non-null   int64\n",
      " 27  Feature28  2200 non-null   int64\n",
      " 28  Feature29  2200 non-null   int64\n",
      " 29  Feature30  2200 non-null   int64\n",
      " 30  Feature31  2200 non-null   int64\n",
      " 31  Feature32  2200 non-null   int64\n",
      " 32  Feature33  2200 non-null   int64\n",
      " 33  Feature34  2200 non-null   int64\n",
      " 34  Feature35  2200 non-null   int64\n",
      " 35  Feature36  2200 non-null   int64\n",
      " 36  Feature37  2200 non-null   int64\n",
      " 37  Feature38  2200 non-null   int64\n",
      " 38  Feature39  2200 non-null   int64\n",
      " 39  Feature40  2200 non-null   int64\n",
      " 40  Feature41  2200 non-null   int64\n",
      " 41  Feature42  2200 non-null   int64\n",
      " 42  Feature43  2200 non-null   int64\n",
      " 43  Feature44  2200 non-null   int64\n",
      " 44  Feature45  2200 non-null   int64\n",
      " 45  Feature46  2200 non-null   int64\n",
      " 46  Feature47  2200 non-null   int64\n",
      " 47  Feature48  2200 non-null   int64\n",
      " 48  Feature49  2200 non-null   int64\n",
      " 49  Feature50  2200 non-null   int64\n",
      " 50  Feature51  2200 non-null   int64\n",
      " 51  Feature52  2200 non-null   int64\n",
      " 52  Feature53  2200 non-null   int64\n",
      " 53  Feature54  2200 non-null   int64\n",
      " 54  Feature55  2200 non-null   int64\n",
      " 55  Feature56  2200 non-null   int64\n",
      " 56  Feature57  2200 non-null   int64\n",
      " 57  Label      2200 non-null   int64\n",
      "dtypes: int64(58)\n",
      "memory usage: 997.0 KB\n"
     ]
    }
   ],
   "source": [
    "# Knowing the dataset\n",
    "# Checking the non-null and null values for each columns\n",
    "DataA1.info()"
   ]
  },
  {
   "cell_type": "code",
   "execution_count": 31,
   "metadata": {},
   "outputs": [
    {
     "data": {
      "text/html": [
       "<div>\n",
       "<style scoped>\n",
       "    .dataframe tbody tr th:only-of-type {\n",
       "        vertical-align: middle;\n",
       "    }\n",
       "\n",
       "    .dataframe tbody tr th {\n",
       "        vertical-align: top;\n",
       "    }\n",
       "\n",
       "    .dataframe thead th {\n",
       "        text-align: right;\n",
       "    }\n",
       "</style>\n",
       "<table border=\"1\" class=\"dataframe\">\n",
       "  <thead>\n",
       "    <tr style=\"text-align: right;\">\n",
       "      <th></th>\n",
       "      <th>Feature1</th>\n",
       "      <th>Feature2</th>\n",
       "      <th>Feature3</th>\n",
       "      <th>Feature4</th>\n",
       "      <th>Feature5</th>\n",
       "      <th>Feature6</th>\n",
       "      <th>Feature7</th>\n",
       "      <th>Feature8</th>\n",
       "      <th>Feature9</th>\n",
       "      <th>Feature10</th>\n",
       "      <th>...</th>\n",
       "      <th>Feature48</th>\n",
       "      <th>Feature49</th>\n",
       "      <th>Feature50</th>\n",
       "      <th>Feature51</th>\n",
       "      <th>Feature52</th>\n",
       "      <th>Feature53</th>\n",
       "      <th>Feature54</th>\n",
       "      <th>Feature55</th>\n",
       "      <th>Feature56</th>\n",
       "      <th>Feature57</th>\n",
       "    </tr>\n",
       "  </thead>\n",
       "  <tbody>\n",
       "    <tr>\n",
       "      <th>0</th>\n",
       "      <td>1</td>\n",
       "      <td>2</td>\n",
       "      <td>1</td>\n",
       "      <td>2</td>\n",
       "      <td>1</td>\n",
       "      <td>2</td>\n",
       "      <td>3</td>\n",
       "      <td>3</td>\n",
       "      <td>3</td>\n",
       "      <td>3</td>\n",
       "      <td>...</td>\n",
       "      <td>4</td>\n",
       "      <td>3</td>\n",
       "      <td>2</td>\n",
       "      <td>3</td>\n",
       "      <td>4</td>\n",
       "      <td>2</td>\n",
       "      <td>2</td>\n",
       "      <td>2</td>\n",
       "      <td>2</td>\n",
       "      <td>1</td>\n",
       "    </tr>\n",
       "    <tr>\n",
       "      <th>1</th>\n",
       "      <td>3</td>\n",
       "      <td>3</td>\n",
       "      <td>4</td>\n",
       "      <td>2</td>\n",
       "      <td>1</td>\n",
       "      <td>2</td>\n",
       "      <td>2</td>\n",
       "      <td>4</td>\n",
       "      <td>3</td>\n",
       "      <td>2</td>\n",
       "      <td>...</td>\n",
       "      <td>3</td>\n",
       "      <td>1</td>\n",
       "      <td>4</td>\n",
       "      <td>3</td>\n",
       "      <td>4</td>\n",
       "      <td>4</td>\n",
       "      <td>4</td>\n",
       "      <td>1</td>\n",
       "      <td>3</td>\n",
       "      <td>4</td>\n",
       "    </tr>\n",
       "    <tr>\n",
       "      <th>2</th>\n",
       "      <td>4</td>\n",
       "      <td>1</td>\n",
       "      <td>4</td>\n",
       "      <td>4</td>\n",
       "      <td>4</td>\n",
       "      <td>4</td>\n",
       "      <td>1</td>\n",
       "      <td>1</td>\n",
       "      <td>2</td>\n",
       "      <td>1</td>\n",
       "      <td>...</td>\n",
       "      <td>1</td>\n",
       "      <td>1</td>\n",
       "      <td>2</td>\n",
       "      <td>1</td>\n",
       "      <td>1</td>\n",
       "      <td>4</td>\n",
       "      <td>2</td>\n",
       "      <td>2</td>\n",
       "      <td>4</td>\n",
       "      <td>4</td>\n",
       "    </tr>\n",
       "    <tr>\n",
       "      <th>3</th>\n",
       "      <td>1</td>\n",
       "      <td>4</td>\n",
       "      <td>1</td>\n",
       "      <td>1</td>\n",
       "      <td>3</td>\n",
       "      <td>3</td>\n",
       "      <td>4</td>\n",
       "      <td>4</td>\n",
       "      <td>3</td>\n",
       "      <td>4</td>\n",
       "      <td>...</td>\n",
       "      <td>2</td>\n",
       "      <td>1</td>\n",
       "      <td>3</td>\n",
       "      <td>3</td>\n",
       "      <td>4</td>\n",
       "      <td>1</td>\n",
       "      <td>3</td>\n",
       "      <td>3</td>\n",
       "      <td>4</td>\n",
       "      <td>2</td>\n",
       "    </tr>\n",
       "    <tr>\n",
       "      <th>4</th>\n",
       "      <td>3</td>\n",
       "      <td>4</td>\n",
       "      <td>4</td>\n",
       "      <td>3</td>\n",
       "      <td>1</td>\n",
       "      <td>1</td>\n",
       "      <td>4</td>\n",
       "      <td>4</td>\n",
       "      <td>4</td>\n",
       "      <td>1</td>\n",
       "      <td>...</td>\n",
       "      <td>4</td>\n",
       "      <td>3</td>\n",
       "      <td>1</td>\n",
       "      <td>3</td>\n",
       "      <td>2</td>\n",
       "      <td>1</td>\n",
       "      <td>4</td>\n",
       "      <td>2</td>\n",
       "      <td>1</td>\n",
       "      <td>1</td>\n",
       "    </tr>\n",
       "  </tbody>\n",
       "</table>\n",
       "<p>5 rows × 57 columns</p>\n",
       "</div>"
      ],
      "text/plain": [
       "   Feature1  Feature2  Feature3  Feature4  Feature5  Feature6  Feature7  \\\n",
       "0         1         2         1         2         1         2         3   \n",
       "1         3         3         4         2         1         2         2   \n",
       "2         4         1         4         4         4         4         1   \n",
       "3         1         4         1         1         3         3         4   \n",
       "4         3         4         4         3         1         1         4   \n",
       "\n",
       "   Feature8  Feature9  Feature10  ...  Feature48  Feature49  Feature50  \\\n",
       "0         3         3          3  ...          4          3          2   \n",
       "1         4         3          2  ...          3          1          4   \n",
       "2         1         2          1  ...          1          1          2   \n",
       "3         4         3          4  ...          2          1          3   \n",
       "4         4         4          1  ...          4          3          1   \n",
       "\n",
       "   Feature51  Feature52  Feature53  Feature54  Feature55  Feature56  Feature57  \n",
       "0          3          4          2          2          2          2          1  \n",
       "1          3          4          4          4          1          3          4  \n",
       "2          1          1          4          2          2          4          4  \n",
       "3          3          4          1          3          3          4          2  \n",
       "4          3          2          1          4          2          1          1  \n",
       "\n",
       "[5 rows x 57 columns]"
      ]
     },
     "execution_count": 31,
     "metadata": {},
     "output_type": "execute_result"
    }
   ],
   "source": [
    "# Separating features and Target Attribute (Label)\n",
    "x = DataA1.drop(columns=['Label'])\n",
    "y = DataA1['Label']\n",
    "x.head()\n"
   ]
  },
  {
   "cell_type": "code",
   "execution_count": 32,
   "metadata": {},
   "outputs": [
    {
     "data": {
      "text/plain": [
       "0    1\n",
       "1    1\n",
       "2    1\n",
       "3   -1\n",
       "4   -1\n",
       "Name: Label, dtype: int64"
      ]
     },
     "execution_count": 32,
     "metadata": {},
     "output_type": "execute_result"
    }
   ],
   "source": [
    "y.head()"
   ]
  },
  {
   "cell_type": "code",
   "execution_count": 33,
   "metadata": {},
   "outputs": [
    {
     "data": {
      "text/plain": [
       "array([[-1.35289759, -0.48747864, -1.37244139, ..., -0.4584159 ,\n",
       "        -0.41756618, -1.39224875],\n",
       "       [ 0.45920268,  0.43308188,  1.36002111, ..., -1.37441497,\n",
       "         0.49741947,  1.36965138],\n",
       "       [ 1.36525282, -1.40803915,  1.36002111, ..., -0.4584159 ,\n",
       "         1.41240513,  1.36965138],\n",
       "       ...,\n",
       "       [ 0.45920268,  1.35364239,  1.36002111, ...,  0.45758317,\n",
       "        -1.33255183, -0.47161537],\n",
       "       [-1.35289759,  1.35364239,  0.44920027, ...,  1.37358225,\n",
       "         0.49741947,  1.36965138],\n",
       "       [ 1.36525282,  0.43308188, -1.37244139, ..., -0.4584159 ,\n",
       "         1.41240513,  0.44901801]])"
      ]
     },
     "execution_count": 33,
     "metadata": {},
     "output_type": "execute_result"
    }
   ],
   "source": [
    "# Z-score normalization\n",
    "scaler = StandardScaler()\n",
    "normalised_x = scaler.fit_transform(x)\n",
    "np.array(normalised_x)"
   ]
  },
  {
   "cell_type": "code",
   "execution_count": 34,
   "metadata": {},
   "outputs": [
    {
     "data": {
      "text/plain": [
       "(1540, 57)"
      ]
     },
     "execution_count": 34,
     "metadata": {},
     "output_type": "execute_result"
    }
   ],
   "source": [
    "# Split data into train and test sets\n",
    "x_train, x_test, y_train, y_test = train_test_split(normalised_x, y, test_size=0.3, random_state=42)\n",
    "np.array(x_train).shape"
   ]
  },
  {
   "cell_type": "code",
   "execution_count": 35,
   "metadata": {},
   "outputs": [
    {
     "data": {
      "text/plain": [
       "(660, 57)"
      ]
     },
     "execution_count": 35,
     "metadata": {},
     "output_type": "execute_result"
    }
   ],
   "source": [
    "np.array(x_test).shape"
   ]
  },
  {
   "cell_type": "code",
   "execution_count": 36,
   "metadata": {},
   "outputs": [
    {
     "data": {
      "text/plain": [
       "(1540,)"
      ]
     },
     "execution_count": 36,
     "metadata": {},
     "output_type": "execute_result"
    }
   ],
   "source": [
    "np.array(y_train).shape"
   ]
  },
  {
   "cell_type": "code",
   "execution_count": 37,
   "metadata": {},
   "outputs": [
    {
     "data": {
      "text/plain": [
       "(660,)"
      ]
     },
     "execution_count": 37,
     "metadata": {},
     "output_type": "execute_result"
    }
   ],
   "source": [
    "np.array(y_test).shape"
   ]
  },
  {
   "cell_type": "markdown",
   "metadata": {},
   "source": [
    "##### 2.\tUse 5-fold cross validation on the training set to select the parameters k for k-NN from the set [1, 3, 5, 7, ..., 31]. Plot a figure that shows the relationship between the accuracy and the parameter k. Report the best k in terms of classification accuracy. "
   ]
  },
  {
   "cell_type": "code",
   "execution_count": 38,
   "metadata": {},
   "outputs": [
    {
     "name": "stdout",
     "output_type": "stream",
     "text": [
      "k values: \n",
      " [ 1  3  5  7  9 11 13 15 17 19 21 23 25 27 29 31]\n",
      "k value: 1 \n",
      "Accuracy Scores [0.69805195 0.69805195 0.69155844 0.72077922 0.72402597] \n",
      "Mean Value of Accuracy:  0.7064935064935064 \n",
      "\n"
     ]
    },
    {
     "name": "stdout",
     "output_type": "stream",
     "text": [
      "k value: 3 \n",
      "Accuracy Scores [0.7012987  0.73376623 0.70779221 0.73701299 0.71753247] \n",
      "Mean Value of Accuracy:  0.7194805194805195 \n",
      "\n",
      "k value: 5 \n",
      "Accuracy Scores [0.72727273 0.73376623 0.75324675 0.72402597 0.71103896] \n",
      "Mean Value of Accuracy:  0.7298701298701299 \n",
      "\n",
      "k value: 7 \n",
      "Accuracy Scores [0.73701299 0.74675325 0.73376623 0.73051948 0.7012987 ] \n",
      "Mean Value of Accuracy:  0.7298701298701298 \n",
      "\n",
      "k value: 9 \n",
      "Accuracy Scores [0.74675325 0.75324675 0.73701299 0.72402597 0.69805195] \n",
      "Mean Value of Accuracy:  0.7318181818181817 \n",
      "\n",
      "k value: 11 \n",
      "Accuracy Scores [0.75649351 0.76298701 0.71103896 0.73051948 0.69805195] \n",
      "Mean Value of Accuracy:  0.7318181818181817 \n",
      "\n",
      "k value: 13 \n",
      "Accuracy Scores [0.73701299 0.77272727 0.71103896 0.74350649 0.71428571] \n",
      "Mean Value of Accuracy:  0.7357142857142858 \n",
      "\n",
      "k value: 15 \n",
      "Accuracy Scores [0.72727273 0.75324675 0.73376623 0.75324675 0.72077922] \n",
      "Mean Value of Accuracy:  0.7376623376623377 \n",
      "\n",
      "k value: 17 \n",
      "Accuracy Scores [0.72077922 0.75       0.72727273 0.76298701 0.71428571] \n",
      "Mean Value of Accuracy:  0.7350649350649351 \n",
      "\n",
      "k value: 19 \n",
      "Accuracy Scores [0.72077922 0.73701299 0.72077922 0.75       0.70454545] \n",
      "Mean Value of Accuracy:  0.7266233766233767 \n",
      "\n",
      "k value: 21 \n",
      "Accuracy Scores [0.71103896 0.75       0.70779221 0.75974026 0.69805195] \n",
      "Mean Value of Accuracy:  0.7253246753246754 \n",
      "\n",
      "k value: 23 \n",
      "Accuracy Scores [0.68831169 0.75       0.71103896 0.76623377 0.71103896] \n",
      "Mean Value of Accuracy:  0.7253246753246754 \n",
      "\n",
      "k value: 25 \n",
      "Accuracy Scores [0.69155844 0.75974026 0.71428571 0.74350649 0.71103896] \n",
      "Mean Value of Accuracy:  0.724025974025974 \n",
      "\n",
      "k value: 27 \n",
      "Accuracy Scores [0.69155844 0.76298701 0.71753247 0.74025974 0.7012987 ] \n",
      "Mean Value of Accuracy:  0.7227272727272728 \n",
      "\n",
      "k value: 29 \n",
      "Accuracy Scores [0.69805195 0.74025974 0.71428571 0.73701299 0.71103896] \n",
      "Mean Value of Accuracy:  0.7201298701298702 \n",
      "\n",
      "k value: 31 \n",
      "Accuracy Scores [0.69805195 0.74350649 0.70454545 0.73376623 0.71103896] \n",
      "Mean Value of Accuracy:  0.7181818181818181 \n",
      "\n"
     ]
    }
   ],
   "source": [
    "# Possible Values for k\n",
    "k = np.arange(1, 32, 2)\n",
    "print(\"k values: \\n\",k)\n",
    "\n",
    "# Perform 5-fold cross-validation to select k\n",
    "cross_validation_scores = []\n",
    "for k_value in k:\n",
    "    K_nearest_neighbour = KNeighborsClassifier(n_neighbors=k_value)\n",
    "    validation_scores = cross_val_score(K_nearest_neighbour, x_train, y_train, cv = 5, scoring='accuracy')\n",
    "\n",
    "    cross_validation_scores.append(validation_scores.mean())\n",
    "\n",
    "    print(\"k value:\",k_value,\"\\nAccuracy Scores\", validation_scores, \"\\nMean Value of Accuracy: \", validation_scores.mean(),\"\\n\")"
   ]
  },
  {
   "cell_type": "code",
   "execution_count": 39,
   "metadata": {},
   "outputs": [
    {
     "data": {
      "image/png": "[encoded data removed]",
      "text/plain": [
       "<Figure size 1000x600 with 1 Axes>"
      ]
     },
     "metadata": {},
     "output_type": "display_data"
    }
   ],
   "source": [
    "# Plot K-value vs Accuracy \n",
    "# Set Seaborn style\n",
    "sns.set_style(\"whitegrid\")\n",
    "\n",
    "# Create a new figure and axis\n",
    "fig, ax = plt.subplots(figsize=(10, 6))\n",
    "\n",
    "# Plot the line plot using Matplotlib with markers\n",
    "ax.plot(k, cross_validation_scores, marker='o', markersize=8, linestyle='-', color='Green', linewidth=2)\n",
    "\n",
    "# Set labels and title\n",
    "ax.set_xlabel('K values')\n",
    "ax.set_ylabel('Accuracy')\n",
    "ax.set_title('K-Value vs Accuracy')\n",
    "\n",
    "# Set axis units to 1 point\n",
    "ax.xaxis.set_major_locator(MultipleLocator(1))\n",
    "\n",
    "# Set additional visual enhancements\n",
    "ax.grid(True, linestyle='--', alpha=1)\n",
    "\n",
    "# Show plot\n",
    "plt.show()"
   ]
  },
  {
   "cell_type": "code",
   "execution_count": 40,
   "metadata": {},
   "outputs": [
    {
     "name": "stdout",
     "output_type": "stream",
     "text": [
      "Best Value of K for k-NN Classifier is: 15\n"
     ]
    }
   ],
   "source": [
    "# Find best K-value\n",
    "best_k = k[np.argmax(cross_validation_scores)]\n",
    "print(\"Best Value of K for k-NN Classifier is:\", best_k)"
   ]
  },
  {
   "cell_type": "markdown",
   "metadata": {},
   "source": [
    "##### 3.\tFor the RBF kernel SVM, there are two parameters to be decided: the soft margin penalty term c and the kernel width parameter gamma. Again use 5-fold cross validation on the training set to select the parameter c from the set [0.1, 0.5, 1, 2, 5, 10, 20, 50] and select the parameter gamma from the set [0.01, 0.05, 0.1, 0.5, 1, 2, 5, 10]. Report the best parameters in terms of classification accuracy. "
   ]
  },
  {
   "cell_type": "code",
   "execution_count": 41,
   "metadata": {},
   "outputs": [
    {
     "name": "stdout",
     "output_type": "stream",
     "text": [
      "Best parameters for SVM (RBF kernel): C = 10 , gamma = 0.01\n"
     ]
    }
   ],
   "source": [
    "# Define candidate values for parameters c and gamma\n",
    "parameters = {'C': [0.1, 0.5, 1, 2, 5, 10, 20, 50], 'gamma': [0.01, 0.05, 0.1, 0.5, 1, 2, 5, 10]}\n",
    "\n",
    "# Perform grid search with 5-fold cross-validation\n",
    "svm_grid = GridSearchCV(SVC(kernel='rbf'), parameters, cv=5, scoring='accuracy')\n",
    "svm_grid.fit(x_train, y_train)\n",
    "\n",
    "# Get best parameters\n",
    "best_c = svm_grid.best_params_['C']\n",
    "best_gamma = svm_grid.best_params_['gamma']\n",
    "print(\"Best parameters for SVM (RBF kernel): C =\", best_c, \", gamma =\", best_gamma)\n"
   ]
  },
  {
   "cell_type": "markdown",
   "metadata": {},
   "source": [
    "##### 4.\tUsing the chosen parameters from the above parameter selection process for k-NN and SVM, and the default setups for Naïve Bayes classifier and Decision Tree, classify the test set. Repeat each classification method 20 times by varying the split of training-test set as in Step (1). Report the average and standard deviation of classification performance on the test set regarding accuracy, precision, recall, and F1-score. "
   ]
  },
  {
   "cell_type": "code",
   "execution_count": 42,
   "metadata": {},
   "outputs": [],
   "source": [
    "# Function to perform classification and return performance metrics\n",
    "def classify_and_evaluate(classifier, X_train, y_train, X_test, y_test):\n",
    "    classifier.fit(X_train, y_train)\n",
    "    y_pred = classifier.predict(X_test)\n",
    "    accuracy = accuracy_score(y_test, y_pred)\n",
    "    precision = precision_score(y_test, y_pred)\n",
    "    recall = recall_score(y_test, y_pred)\n",
    "    f1 = f1_score(y_test, y_pred)\n",
    "    return accuracy, precision, recall, f1"
   ]
  },
  {
   "cell_type": "code",
   "execution_count": 43,
   "metadata": {},
   "outputs": [],
   "source": [
    "\n",
    "# Initialize classifiers with selected parameters\n",
    "knn = KNeighborsClassifier(n_neighbors=best_k)\n",
    "svm = SVC(kernel='rbf', C = best_c, gamma = best_gamma)\n",
    "naive_bayes = GaussianNB()\n",
    "decision_tree = DecisionTreeClassifier()"
   ]
  },
  {
   "cell_type": "code",
   "execution_count": 44,
   "metadata": {},
   "outputs": [],
   "source": [
    "\n",
    "# Perform classification and evaluation 20 times\n",
    "def Perform_classification(classifier):\n",
    "    num_trials = 20\n",
    "    accuracy_scores = []\n",
    "    precision_scores = []\n",
    "    recall_scores = []\n",
    "    f1_scores = []\n",
    "\n",
    "    for _ in range(num_trials):\n",
    "        # Split data into train and test sets\n",
    "        x_train, x_test, y_train, y_test = train_test_split(normalised_x, y, test_size=0.3, random_state=None)\n",
    "        \n",
    "        # Classify and evaluate\n",
    "        accuracy, precision, recall, f1 = classify_and_evaluate(classifier, x_train, y_train, x_test, y_test)\n",
    "        accuracy_scores.append(accuracy)\n",
    "        precision_scores.append(precision)\n",
    "        recall_scores.append(recall)\n",
    "        f1_scores.append(f1)\n",
    "\n",
    "    # Report average and standard deviation of performance metrics\n",
    "    print(\"Average Accuracy of:\", mean(accuracy_scores))\n",
    "    print(\"Standard Deviation Accuracy:\", stdev(accuracy_scores))\n",
    "    print(\"Average Precision:\", mean(precision_scores))\n",
    "    print(\"Standard Deviation Precision:\", stdev(precision_scores))\n",
    "    print(\"Average Recall:\", mean(recall_scores))\n",
    "    print(\"Standard Deviation Recall:\", stdev(recall_scores))\n",
    "    print(\"Average F1-score:\", mean(f1_scores))\n",
    "    print(\"Standard Deviation F1-score:\", stdev(f1_scores))"
   ]
  },
  {
   "cell_type": "code",
   "execution_count": 45,
   "metadata": {},
   "outputs": [
    {
     "name": "stdout",
     "output_type": "stream",
     "text": [
      "Average Accuracy of: 0.7454545454545455\n",
      "Standard Deviation Accuracy: 0.023062388461276794\n",
      "Average Precision: 0.9582317038584496\n",
      "Standard Deviation Precision: 0.017951948079664548\n",
      "Average Recall: 0.5281739994932426\n",
      "Standard Deviation Recall: 0.038444546032150424\n",
      "Average F1-score: 0.6799594992015696\n",
      "Standard Deviation F1-score: 0.03055886501181418\n"
     ]
    }
   ],
   "source": [
    "# KNN\n",
    "Perform_classification(knn)"
   ]
  },
  {
   "cell_type": "code",
   "execution_count": 46,
   "metadata": {},
   "outputs": [
    {
     "name": "stdout",
     "output_type": "stream",
     "text": [
      "Average Accuracy of: 0.9056818181818181\n",
      "Standard Deviation Accuracy: 0.008512642447346968\n",
      "Average Precision: 0.9229803087200773\n",
      "Standard Deviation Precision: 0.012422421195910737\n",
      "Average Recall: 0.8888911185738743\n",
      "Standard Deviation Recall: 0.015071708266128764\n",
      "Average F1-score: 0.9055140347602055\n",
      "Standard Deviation F1-score: 0.009756328843081872\n"
     ]
    }
   ],
   "source": [
    "# SVM Perform classification and evaluation 20 times\n",
    "Perform_classification(svm)"
   ]
  },
  {
   "cell_type": "code",
   "execution_count": 47,
   "metadata": {},
   "outputs": [
    {
     "name": "stdout",
     "output_type": "stream",
     "text": [
      "Average Accuracy of: 0.870530303030303\n",
      "Standard Deviation Accuracy: 0.01231381077168416\n",
      "Average Precision: 0.8695971015077553\n",
      "Standard Deviation Precision: 0.01612655811730161\n",
      "Average Recall: 0.8837044306019265\n",
      "Standard Deviation Recall: 0.014578520189126608\n",
      "Average F1-score: 0.8764875415994177\n",
      "Standard Deviation F1-score: 0.011734367684576799\n"
     ]
    }
   ],
   "source": [
    "# Naiye Bayes Perform classification and evaluation 20 times\n",
    "Perform_classification(naive_bayes)"
   ]
  },
  {
   "cell_type": "code",
   "execution_count": 48,
   "metadata": {},
   "outputs": [
    {
     "name": "stdout",
     "output_type": "stream",
     "text": [
      "Average Accuracy of: 0.9343181818181818\n",
      "Standard Deviation Accuracy: 0.011800737544827626\n",
      "Average Precision: 0.9394914827870673\n",
      "Standard Deviation Precision: 0.014165389994089742\n",
      "Average Recall: 0.9328387152109977\n",
      "Standard Deviation Recall: 0.016293521724058575\n",
      "Average F1-score: 0.9360564593071852\n",
      "Standard Deviation F1-score: 0.011767181761779988\n"
     ]
    }
   ],
   "source": [
    "# Decision Tree Perform classification and evaluation 20 times\n",
    "Perform_classification(decision_tree)"
   ]
  },
  {
   "cell_type": "markdown",
   "metadata": {},
   "source": [
    "##### 5 Comment on the obtained results. "
   ]
  },
  {
   "cell_type": "markdown",
   "metadata": {},
   "source": [
    "# **Analysis**  \n",
    "\n",
    "### KNN classifier shows a moderate level of accuracy. The high precision suggests that model is likely to predict a positive class correct. The low recall indicates model misses a significant number of actual positive cases. There is a tradeoff between recall and precision. The F1-score is also low , thus it does not capture the complexity of the data.\n",
    "\n",
    "### SVM with RBF Kernel demonstrates strong performace across all metrices with high accuracy, precision, recall and F1-score. The low standard deviation indicates model is consisten across whole data and chosen parameters are effective.\n",
    "\n",
    "### Naive Bayes Classifier has strong F1-score. With balanced precision and recall , Naive Bayes looks good for this dataset.\n",
    "\n",
    "### Decision Tree shows highest accuracy among all the classifiers and has a high F1-score as well; indicating good balance between precision and recall. The low standard deviation suggests that it is stable across different data splits. "
   ]
  }
 ],
 "metadata": {
  "kernelspec": {
   "display_name": "Python 3 (ipykernel)",
   "language": "python",
   "name": "python3"
  },
  "language_info": {
   "codemirror_mode": {
    "name": "ipython",
    "version": 3
   },
   "file_extension": ".py",
   "mimetype": "text/x-python",
   "name": "python",
   "nbconvert_exporter": "python",
   "pygments_lexer": "ipython3",
   "version": "3.12.0"
  }
 },
 "nbformat": 4,
 "nbformat_minor": 4
}
